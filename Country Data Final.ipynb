{
 "cells": [
  {
   "cell_type": "code",
   "execution_count": null,
   "id": "a86cc4e9",
   "metadata": {},
   "outputs": [],
   "source": [
    "##DOWNLOADING DATASETS##"
   ]
  },
  {
   "cell_type": "code",
   "execution_count": null,
   "id": "ab91fde0",
   "metadata": {},
   "outputs": [],
   "source": []
  }
 ],
 "metadata": {
  "kernelspec": {
   "display_name": "Python 3 (ipykernel)",
   "language": "python",
   "name": "python3"
  },
  "language_info": {
   "codemirror_mode": {
    "name": "ipython",
    "version": 3
   },
   "file_extension": ".py",
   "mimetype": "text/x-python",
   "name": "python",
   "nbconvert_exporter": "python",
   "pygments_lexer": "ipython3",
   "version": "3.9.13"
  }
 },
 "nbformat": 4,
 "nbformat_minor": 5
}
